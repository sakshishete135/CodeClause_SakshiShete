{
 "cells": [
  {
   "cell_type": "markdown",
   "id": "d22ac55f",
   "metadata": {},
   "source": [
    "# Code Clause\n",
    "\n",
    "Sakshi Shete - Data Science Intern\n",
    "\n",
    "Task1 - Fake News Detection\n",
    "\n",
    "Fake News is false information and hoaxes spread through social media and other online media to achieve a political agenda.t is necessary to detect fake news mainly for media outlets to have the ability to attract viewers to their website to generate online advertising revenue. Here I have used python to build a model that can accurately detect whether a piece of news is real or fake.\n",
    "\n",
    "Link for Dataset: https://drive.google.com/file/d/1er9NJTLUA3qnRuyhfzuN0XUsoIC4a-_q/view"
   ]
  },
  {
   "cell_type": "code",
   "execution_count": 1,
   "id": "6e1bb8bd",
   "metadata": {},
   "outputs": [
    {
     "data": {
      "text/html": [
       "<div>\n",
       "<style scoped>\n",
       "    .dataframe tbody tr th:only-of-type {\n",
       "        vertical-align: middle;\n",
       "    }\n",
       "\n",
       "    .dataframe tbody tr th {\n",
       "        vertical-align: top;\n",
       "    }\n",
       "\n",
       "    .dataframe thead th {\n",
       "        text-align: right;\n",
       "    }\n",
       "</style>\n",
       "<table border=\"1\" class=\"dataframe\">\n",
       "  <thead>\n",
       "    <tr style=\"text-align: right;\">\n",
       "      <th></th>\n",
       "      <th>Unnamed: 0</th>\n",
       "      <th>title</th>\n",
       "      <th>text</th>\n",
       "      <th>label</th>\n",
       "    </tr>\n",
       "  </thead>\n",
       "  <tbody>\n",
       "    <tr>\n",
       "      <th>0</th>\n",
       "      <td>8476</td>\n",
       "      <td>You Can Smell Hillary’s Fear</td>\n",
       "      <td>Daniel Greenfield, a Shillman Journalism Fello...</td>\n",
       "      <td>FAKE</td>\n",
       "    </tr>\n",
       "    <tr>\n",
       "      <th>1</th>\n",
       "      <td>10294</td>\n",
       "      <td>Watch The Exact Moment Paul Ryan Committed Pol...</td>\n",
       "      <td>Google Pinterest Digg Linkedin Reddit Stumbleu...</td>\n",
       "      <td>FAKE</td>\n",
       "    </tr>\n",
       "    <tr>\n",
       "      <th>2</th>\n",
       "      <td>3608</td>\n",
       "      <td>Kerry to go to Paris in gesture of sympathy</td>\n",
       "      <td>U.S. Secretary of State John F. Kerry said Mon...</td>\n",
       "      <td>REAL</td>\n",
       "    </tr>\n",
       "    <tr>\n",
       "      <th>3</th>\n",
       "      <td>10142</td>\n",
       "      <td>Bernie supporters on Twitter erupt in anger ag...</td>\n",
       "      <td>— Kaydee King (@KaydeeKing) November 9, 2016 T...</td>\n",
       "      <td>FAKE</td>\n",
       "    </tr>\n",
       "    <tr>\n",
       "      <th>4</th>\n",
       "      <td>875</td>\n",
       "      <td>The Battle of New York: Why This Primary Matters</td>\n",
       "      <td>It's primary day in New York and front-runners...</td>\n",
       "      <td>REAL</td>\n",
       "    </tr>\n",
       "  </tbody>\n",
       "</table>\n",
       "</div>"
      ],
      "text/plain": [
       "   Unnamed: 0                                              title  \\\n",
       "0        8476                       You Can Smell Hillary’s Fear   \n",
       "1       10294  Watch The Exact Moment Paul Ryan Committed Pol...   \n",
       "2        3608        Kerry to go to Paris in gesture of sympathy   \n",
       "3       10142  Bernie supporters on Twitter erupt in anger ag...   \n",
       "4         875   The Battle of New York: Why This Primary Matters   \n",
       "\n",
       "                                                text label  \n",
       "0  Daniel Greenfield, a Shillman Journalism Fello...  FAKE  \n",
       "1  Google Pinterest Digg Linkedin Reddit Stumbleu...  FAKE  \n",
       "2  U.S. Secretary of State John F. Kerry said Mon...  REAL  \n",
       "3  — Kaydee King (@KaydeeKing) November 9, 2016 T...  FAKE  \n",
       "4  It's primary day in New York and front-runners...  REAL  "
      ]
     },
     "execution_count": 1,
     "metadata": {},
     "output_type": "execute_result"
    }
   ],
   "source": [
    "import pandas as pd\n",
    "import numpy as np\n",
    "import json \n",
    "import random\n",
    "\n",
    "\n",
    "from tensorflow.keras.preprocessing.text import Tokenizer\n",
    "from tensorflow.keras.preprocessing.sequence import pad_sequences\n",
    "from tensorflow.keras.utils import to_categorical\n",
    "from tensorflow.keras import regularizers\n",
    "\n",
    "import pprint\n",
    "import tensorflow.compat.v1 as tf\n",
    "from tensorflow.python.framework import ops\n",
    "from sklearn.model_selection import train_test_split\n",
    "from sklearn import preprocessing\n",
    "tf.disable_eager_execution()\n",
    "\n",
    "#Reading the data\n",
    "data = pd.read_csv(r'C:\\Users\\Acer\\Downloads\\news\\news.csv')\n",
    "data.head()"
   ]
  },
  {
   "cell_type": "code",
   "execution_count": 2,
   "id": "173d6ef1",
   "metadata": {},
   "outputs": [
    {
     "data": {
      "text/html": [
       "<div>\n",
       "<style scoped>\n",
       "    .dataframe tbody tr th:only-of-type {\n",
       "        vertical-align: middle;\n",
       "    }\n",
       "\n",
       "    .dataframe tbody tr th {\n",
       "        vertical-align: top;\n",
       "    }\n",
       "\n",
       "    .dataframe thead th {\n",
       "        text-align: right;\n",
       "    }\n",
       "</style>\n",
       "<table border=\"1\" class=\"dataframe\">\n",
       "  <thead>\n",
       "    <tr style=\"text-align: right;\">\n",
       "      <th></th>\n",
       "      <th>title</th>\n",
       "      <th>text</th>\n",
       "      <th>label</th>\n",
       "    </tr>\n",
       "  </thead>\n",
       "  <tbody>\n",
       "    <tr>\n",
       "      <th>0</th>\n",
       "      <td>You Can Smell Hillary’s Fear</td>\n",
       "      <td>Daniel Greenfield, a Shillman Journalism Fello...</td>\n",
       "      <td>FAKE</td>\n",
       "    </tr>\n",
       "    <tr>\n",
       "      <th>1</th>\n",
       "      <td>Watch The Exact Moment Paul Ryan Committed Pol...</td>\n",
       "      <td>Google Pinterest Digg Linkedin Reddit Stumbleu...</td>\n",
       "      <td>FAKE</td>\n",
       "    </tr>\n",
       "    <tr>\n",
       "      <th>2</th>\n",
       "      <td>Kerry to go to Paris in gesture of sympathy</td>\n",
       "      <td>U.S. Secretary of State John F. Kerry said Mon...</td>\n",
       "      <td>REAL</td>\n",
       "    </tr>\n",
       "    <tr>\n",
       "      <th>3</th>\n",
       "      <td>Bernie supporters on Twitter erupt in anger ag...</td>\n",
       "      <td>— Kaydee King (@KaydeeKing) November 9, 2016 T...</td>\n",
       "      <td>FAKE</td>\n",
       "    </tr>\n",
       "    <tr>\n",
       "      <th>4</th>\n",
       "      <td>The Battle of New York: Why This Primary Matters</td>\n",
       "      <td>It's primary day in New York and front-runners...</td>\n",
       "      <td>REAL</td>\n",
       "    </tr>\n",
       "  </tbody>\n",
       "</table>\n",
       "</div>"
      ],
      "text/plain": [
       "                                               title  \\\n",
       "0                       You Can Smell Hillary’s Fear   \n",
       "1  Watch The Exact Moment Paul Ryan Committed Pol...   \n",
       "2        Kerry to go to Paris in gesture of sympathy   \n",
       "3  Bernie supporters on Twitter erupt in anger ag...   \n",
       "4   The Battle of New York: Why This Primary Matters   \n",
       "\n",
       "                                                text label  \n",
       "0  Daniel Greenfield, a Shillman Journalism Fello...  FAKE  \n",
       "1  Google Pinterest Digg Linkedin Reddit Stumbleu...  FAKE  \n",
       "2  U.S. Secretary of State John F. Kerry said Mon...  REAL  \n",
       "3  — Kaydee King (@KaydeeKing) November 9, 2016 T...  FAKE  \n",
       "4  It's primary day in New York and front-runners...  REAL  "
      ]
     },
     "execution_count": 2,
     "metadata": {},
     "output_type": "execute_result"
    }
   ],
   "source": [
    "#Dropping the unwanted Column\n",
    "data = data.drop(['Unnamed: 0'],axis=1)\n",
    "data.head(5)"
   ]
  },
  {
   "cell_type": "code",
   "execution_count": 3,
   "id": "923c5b77",
   "metadata": {},
   "outputs": [],
   "source": [
    "#Encoding the labels\n",
    "la = preprocessing.LabelEncoder()\n",
    "la.fit(data['label'])\n",
    "data['label'] = la.transform(data['label'])"
   ]
  },
  {
   "cell_type": "code",
   "execution_count": 4,
   "id": "decb3f91",
   "metadata": {},
   "outputs": [],
   "source": [
    "embedding_dim = 50\n",
    "max_length = 54\n",
    "trunc_type = 'post'\n",
    "padding_type = 'post'\n",
    "oov_tok = \"<OOV>\"\n",
    "training_size = 3000\n",
    "test_portion = .1"
   ]
  },
  {
   "cell_type": "code",
   "execution_count": 5,
   "id": "8021a51d",
   "metadata": {},
   "outputs": [],
   "source": [
    "title = []\n",
    "text = []\n",
    "labels = []\n",
    "for x in range(training_size):\n",
    "    title.append(data['title'][x])\n",
    "    text.append(data['text'][x])\n",
    "    labels.append(data['label'][x])"
   ]
  },
  {
   "cell_type": "code",
   "execution_count": 11,
   "id": "4c6291f4",
   "metadata": {},
   "outputs": [],
   "source": [
    "tokenizer1 = Tokenizer()\n",
    "tokenizer1.fit_on_texts(title)\n",
    "word_index1 = tokenizer1.word_index\n",
    "vocab_size1 = len(word_index1)\n",
    "sequences1 = tokenizer1.texts_to_sequences(title)\n",
    "padded1 = pad_sequences(sequences1, padding=padding_type, truncating= trunc_type)\n",
    "split = int(test_portion * training_size)\n",
    "training_sequences1 = padded1[split:training_size]\n",
    "test_sequences1 = padded1[0:split]\n",
    "test_labels = labels[0:split]\n",
    "training_labels = labels[split:training_size]"
   ]
  },
  {
   "cell_type": "code",
   "execution_count": 12,
   "id": "e9c4abea",
   "metadata": {},
   "outputs": [],
   "source": [
    "embeddings_index = {}\n",
    "\n",
    "\n",
    "\n",
    "# Generating embeddings\n",
    "embeddings_matrix = np.zeros((vocab_size1+1, embedding_dim))\n",
    "for word, i in word_index1.items():\n",
    "\tembedding_vector = embeddings_index.get(word)\n",
    "\tif embedding_vector is not None:\n",
    "\t\tembeddings_matrix[i] = embedding_vector"
   ]
  },
  {
   "cell_type": "code",
   "execution_count": 13,
   "id": "6d4c57f8",
   "metadata": {},
   "outputs": [
    {
     "name": "stdout",
     "output_type": "stream",
     "text": [
      "Model: \"sequential_1\"\n",
      "_________________________________________________________________\n",
      " Layer (type)                Output Shape              Param #   \n",
      "=================================================================\n",
      " embedding_1 (Embedding)     (None, 54, 50)            377600    \n",
      "                                                                 \n",
      " dropout_1 (Dropout)         (None, 54, 50)            0         \n",
      "                                                                 \n",
      " conv1d_1 (Conv1D)           (None, 50, 64)            16064     \n",
      "                                                                 \n",
      " max_pooling1d_1 (MaxPooling  (None, 12, 64)           0         \n",
      " 1D)                                                             \n",
      "                                                                 \n",
      " lstm_1 (LSTM)               (None, 64)                33024     \n",
      "                                                                 \n",
      " dense_1 (Dense)             (None, 1)                 65        \n",
      "                                                                 \n",
      "=================================================================\n",
      "Total params: 426,753\n",
      "Trainable params: 49,153\n",
      "Non-trainable params: 377,600\n",
      "_________________________________________________________________\n"
     ]
    }
   ],
   "source": [
    "model = tf.keras.Sequential([tf.keras.layers.Embedding(vocab_size1+1, embedding_dim,input_length=max_length, weights=[embeddings_matrix],trainable=False),tf.keras.layers.Dropout(0.2),tf.keras.layers.Conv1D(64, 5, activation='relu'),tf.keras.layers.MaxPooling1D(pool_size=4),tf.keras.layers.LSTM(64),tf.keras.layers.Dense(1, activation='sigmoid')])\n",
    "model.compile(loss='binary_crossentropy',optimizer='adam', metrics=['accuracy'])\n",
    "model.summary()"
   ]
  },
  {
   "cell_type": "code",
   "execution_count": 14,
   "id": "bdd1115b",
   "metadata": {},
   "outputs": [
    {
     "name": "stdout",
     "output_type": "stream",
     "text": [
      "Train on 2700 samples, validate on 300 samples\n",
      "Epoch 1/50\n"
     ]
    },
    {
     "name": "stderr",
     "output_type": "stream",
     "text": [
      "C:\\Users\\Acer\\anaconda3\\lib\\site-packages\\keras\\engine\\training_v1.py:2335: UserWarning: `Model.state_updates` will be removed in a future version. This property should not be used in TensorFlow 2.0, as `updates` are applied automatically.\n",
      "  updates = self.state_updates\n"
     ]
    },
    {
     "name": "stdout",
     "output_type": "stream",
     "text": [
      "2700/2700 - 3s - loss: 0.6932 - accuracy: 0.5063 - val_loss: 0.6937 - val_accuracy: 0.4800 - 3s/epoch - 1ms/sample\n",
      "Epoch 2/50\n",
      "2700/2700 - 1s - loss: 0.6933 - accuracy: 0.4959 - val_loss: 0.6936 - val_accuracy: 0.4800 - 807ms/epoch - 299us/sample\n",
      "Epoch 3/50\n",
      "2700/2700 - 1s - loss: 0.6932 - accuracy: 0.5063 - val_loss: 0.6935 - val_accuracy: 0.4800 - 747ms/epoch - 277us/sample\n",
      "Epoch 4/50\n",
      "2700/2700 - 1s - loss: 0.6933 - accuracy: 0.5063 - val_loss: 0.6936 - val_accuracy: 0.4800 - 755ms/epoch - 280us/sample\n",
      "Epoch 5/50\n",
      "2700/2700 - 1s - loss: 0.6932 - accuracy: 0.5063 - val_loss: 0.6935 - val_accuracy: 0.4800 - 812ms/epoch - 301us/sample\n",
      "Epoch 6/50\n",
      "2700/2700 - 1s - loss: 0.6932 - accuracy: 0.5063 - val_loss: 0.6938 - val_accuracy: 0.4800 - 804ms/epoch - 298us/sample\n",
      "Epoch 7/50\n",
      "2700/2700 - 1s - loss: 0.6932 - accuracy: 0.5063 - val_loss: 0.6937 - val_accuracy: 0.4800 - 789ms/epoch - 292us/sample\n",
      "Epoch 8/50\n",
      "2700/2700 - 1s - loss: 0.6932 - accuracy: 0.5063 - val_loss: 0.6936 - val_accuracy: 0.4800 - 783ms/epoch - 290us/sample\n",
      "Epoch 9/50\n",
      "2700/2700 - 1s - loss: 0.6931 - accuracy: 0.5063 - val_loss: 0.6938 - val_accuracy: 0.4800 - 745ms/epoch - 276us/sample\n",
      "Epoch 10/50\n",
      "2700/2700 - 1s - loss: 0.6931 - accuracy: 0.5063 - val_loss: 0.6937 - val_accuracy: 0.4800 - 765ms/epoch - 283us/sample\n",
      "Epoch 11/50\n",
      "2700/2700 - 1s - loss: 0.6932 - accuracy: 0.5063 - val_loss: 0.6936 - val_accuracy: 0.4800 - 832ms/epoch - 308us/sample\n",
      "Epoch 12/50\n",
      "2700/2700 - 1s - loss: 0.6932 - accuracy: 0.5063 - val_loss: 0.6938 - val_accuracy: 0.4800 - 792ms/epoch - 293us/sample\n",
      "Epoch 13/50\n",
      "2700/2700 - 1s - loss: 0.6932 - accuracy: 0.5063 - val_loss: 0.6937 - val_accuracy: 0.4800 - 810ms/epoch - 300us/sample\n",
      "Epoch 14/50\n",
      "2700/2700 - 1s - loss: 0.6932 - accuracy: 0.5063 - val_loss: 0.6937 - val_accuracy: 0.4800 - 770ms/epoch - 285us/sample\n",
      "Epoch 15/50\n",
      "2700/2700 - 1s - loss: 0.6931 - accuracy: 0.5063 - val_loss: 0.6938 - val_accuracy: 0.4800 - 814ms/epoch - 301us/sample\n",
      "Epoch 16/50\n",
      "2700/2700 - 1s - loss: 0.6931 - accuracy: 0.5063 - val_loss: 0.6940 - val_accuracy: 0.4800 - 778ms/epoch - 288us/sample\n",
      "Epoch 17/50\n",
      "2700/2700 - 1s - loss: 0.6931 - accuracy: 0.5063 - val_loss: 0.6938 - val_accuracy: 0.4800 - 766ms/epoch - 284us/sample\n",
      "Epoch 18/50\n",
      "2700/2700 - 1s - loss: 0.6931 - accuracy: 0.5063 - val_loss: 0.6937 - val_accuracy: 0.4800 - 822ms/epoch - 304us/sample\n",
      "Epoch 19/50\n",
      "2700/2700 - 1s - loss: 0.6932 - accuracy: 0.5063 - val_loss: 0.6937 - val_accuracy: 0.4800 - 837ms/epoch - 310us/sample\n",
      "Epoch 20/50\n",
      "2700/2700 - 1s - loss: 0.6931 - accuracy: 0.5063 - val_loss: 0.6939 - val_accuracy: 0.4800 - 844ms/epoch - 312us/sample\n",
      "Epoch 21/50\n",
      "2700/2700 - 1s - loss: 0.6932 - accuracy: 0.5063 - val_loss: 0.6938 - val_accuracy: 0.4800 - 812ms/epoch - 301us/sample\n",
      "Epoch 22/50\n",
      "2700/2700 - 1s - loss: 0.6931 - accuracy: 0.5063 - val_loss: 0.6936 - val_accuracy: 0.4800 - 819ms/epoch - 303us/sample\n",
      "Epoch 23/50\n",
      "2700/2700 - 1s - loss: 0.6931 - accuracy: 0.5063 - val_loss: 0.6936 - val_accuracy: 0.4800 - 842ms/epoch - 312us/sample\n",
      "Epoch 24/50\n",
      "2700/2700 - 1s - loss: 0.6932 - accuracy: 0.5063 - val_loss: 0.6937 - val_accuracy: 0.4800 - 787ms/epoch - 292us/sample\n",
      "Epoch 25/50\n",
      "2700/2700 - 1s - loss: 0.6931 - accuracy: 0.5063 - val_loss: 0.6938 - val_accuracy: 0.4800 - 806ms/epoch - 299us/sample\n",
      "Epoch 26/50\n",
      "2700/2700 - 1s - loss: 0.6931 - accuracy: 0.5063 - val_loss: 0.6939 - val_accuracy: 0.4800 - 804ms/epoch - 298us/sample\n",
      "Epoch 27/50\n",
      "2700/2700 - 1s - loss: 0.6931 - accuracy: 0.5063 - val_loss: 0.6937 - val_accuracy: 0.4800 - 830ms/epoch - 307us/sample\n",
      "Epoch 28/50\n",
      "2700/2700 - 1s - loss: 0.6931 - accuracy: 0.5063 - val_loss: 0.6938 - val_accuracy: 0.4800 - 771ms/epoch - 285us/sample\n",
      "Epoch 29/50\n",
      "2700/2700 - 1s - loss: 0.6931 - accuracy: 0.5063 - val_loss: 0.6938 - val_accuracy: 0.4800 - 767ms/epoch - 284us/sample\n",
      "Epoch 30/50\n",
      "2700/2700 - 1s - loss: 0.6932 - accuracy: 0.5063 - val_loss: 0.6936 - val_accuracy: 0.4800 - 819ms/epoch - 303us/sample\n",
      "Epoch 31/50\n",
      "2700/2700 - 1s - loss: 0.6931 - accuracy: 0.5063 - val_loss: 0.6937 - val_accuracy: 0.4800 - 866ms/epoch - 321us/sample\n",
      "Epoch 32/50\n",
      "2700/2700 - 1s - loss: 0.6931 - accuracy: 0.5063 - val_loss: 0.6938 - val_accuracy: 0.4800 - 896ms/epoch - 332us/sample\n",
      "Epoch 33/50\n",
      "2700/2700 - 1s - loss: 0.6931 - accuracy: 0.5063 - val_loss: 0.6936 - val_accuracy: 0.4800 - 877ms/epoch - 325us/sample\n",
      "Epoch 34/50\n",
      "2700/2700 - 1s - loss: 0.6931 - accuracy: 0.5063 - val_loss: 0.6937 - val_accuracy: 0.4800 - 830ms/epoch - 307us/sample\n",
      "Epoch 35/50\n",
      "2700/2700 - 1s - loss: 0.6931 - accuracy: 0.5063 - val_loss: 0.6938 - val_accuracy: 0.4800 - 854ms/epoch - 316us/sample\n",
      "Epoch 36/50\n",
      "2700/2700 - 1s - loss: 0.6931 - accuracy: 0.5063 - val_loss: 0.6938 - val_accuracy: 0.4800 - 796ms/epoch - 295us/sample\n",
      "Epoch 37/50\n",
      "2700/2700 - 1s - loss: 0.6931 - accuracy: 0.5063 - val_loss: 0.6936 - val_accuracy: 0.4800 - 789ms/epoch - 292us/sample\n",
      "Epoch 38/50\n",
      "2700/2700 - 1s - loss: 0.6931 - accuracy: 0.5063 - val_loss: 0.6937 - val_accuracy: 0.4800 - 796ms/epoch - 295us/sample\n",
      "Epoch 39/50\n",
      "2700/2700 - 1s - loss: 0.6931 - accuracy: 0.5063 - val_loss: 0.6937 - val_accuracy: 0.4800 - 797ms/epoch - 295us/sample\n",
      "Epoch 40/50\n",
      "2700/2700 - 1s - loss: 0.6931 - accuracy: 0.5063 - val_loss: 0.6938 - val_accuracy: 0.4800 - 793ms/epoch - 294us/sample\n",
      "Epoch 41/50\n",
      "2700/2700 - 1s - loss: 0.6931 - accuracy: 0.5063 - val_loss: 0.6937 - val_accuracy: 0.4800 - 773ms/epoch - 286us/sample\n",
      "Epoch 42/50\n",
      "2700/2700 - 1s - loss: 0.6931 - accuracy: 0.5063 - val_loss: 0.6938 - val_accuracy: 0.4800 - 816ms/epoch - 302us/sample\n",
      "Epoch 43/50\n",
      "2700/2700 - 1s - loss: 0.6931 - accuracy: 0.5063 - val_loss: 0.6937 - val_accuracy: 0.4800 - 762ms/epoch - 282us/sample\n",
      "Epoch 44/50\n",
      "2700/2700 - 1s - loss: 0.6931 - accuracy: 0.5063 - val_loss: 0.6937 - val_accuracy: 0.4800 - 785ms/epoch - 291us/sample\n",
      "Epoch 45/50\n",
      "2700/2700 - 1s - loss: 0.6931 - accuracy: 0.5063 - val_loss: 0.6938 - val_accuracy: 0.4800 - 781ms/epoch - 289us/sample\n",
      "Epoch 46/50\n",
      "2700/2700 - 1s - loss: 0.6931 - accuracy: 0.5063 - val_loss: 0.6937 - val_accuracy: 0.4800 - 830ms/epoch - 307us/sample\n",
      "Epoch 47/50\n",
      "2700/2700 - 1s - loss: 0.6931 - accuracy: 0.5063 - val_loss: 0.6937 - val_accuracy: 0.4800 - 786ms/epoch - 291us/sample\n",
      "Epoch 48/50\n",
      "2700/2700 - 1s - loss: 0.6931 - accuracy: 0.5063 - val_loss: 0.6937 - val_accuracy: 0.4800 - 859ms/epoch - 318us/sample\n",
      "Epoch 49/50\n",
      "2700/2700 - 1s - loss: 0.6931 - accuracy: 0.5063 - val_loss: 0.6938 - val_accuracy: 0.4800 - 776ms/epoch - 287us/sample\n",
      "Epoch 50/50\n",
      "2700/2700 - 1s - loss: 0.6931 - accuracy: 0.5063 - val_loss: 0.6937 - val_accuracy: 0.4800 - 793ms/epoch - 294us/sample\n"
     ]
    }
   ],
   "source": [
    "num_epochs = 50\n",
    "\n",
    "training_padded = np.array(training_sequences1)\n",
    "training_labels = np.array(training_labels)\n",
    "testing_padded = np.array(test_sequences1)\n",
    "testing_labels = np.array(test_labels)\n",
    "\n",
    "history = model.fit(training_padded, training_labels,epochs=num_epochs,validation_data=(testing_padded,testing_labels),verbose=2)"
   ]
  },
  {
   "cell_type": "code",
   "execution_count": 21,
   "id": "5cbf83d9",
   "metadata": {},
   "outputs": [
    {
     "name": "stdout",
     "output_type": "stream",
     "text": [
      "This news is Fake\n"
     ]
    }
   ],
   "source": [
    "# sample text to check if fake or not\n",
    "X = \"You Can Smell Hillary’s Fear\"\n",
    "\n",
    "# detection\n",
    "sequences = tokenizer1.texts_to_sequences([X])[0]\n",
    "sequences = pad_sequences([sequences], maxlen=54,padding=padding_type,truncating=trunc_type)\n",
    "if(model.predict(sequences, verbose=0)[0][0] >= 0.5):\n",
    "\tprint(\"This news is Real\")\n",
    "else:\n",
    "\tprint(\"This news is Fake\")"
   ]
  },
  {
   "cell_type": "code",
   "execution_count": 24,
   "id": "725f99cc",
   "metadata": {},
   "outputs": [
    {
     "name": "stdout",
     "output_type": "stream",
     "text": [
      "This news is Real\n"
     ]
    }
   ],
   "source": [
    "# sample text to check if fake or not\n",
    "X = \"Kerry to go to Paris in gesture of sympathy\"\n",
    "\n",
    "# detection\n",
    "sequences = tokenizer1.texts_to_sequences([X])[0]\n",
    "sequences = pad_sequences([sequences], maxlen=54,padding=padding_type,truncating=trunc_type)\n",
    "if(model.predict(sequences, verbose=0)[0][0] <= 0.5):\n",
    "\tprint(\"This news is Real\")\n",
    "else:\n",
    "\tprint(\"This news is Fake\")"
   ]
  },
  {
   "cell_type": "code",
   "execution_count": null,
   "id": "b848a5a0",
   "metadata": {},
   "outputs": [],
   "source": []
  }
 ],
 "metadata": {
  "kernelspec": {
   "display_name": "Python 3 (ipykernel)",
   "language": "python",
   "name": "python3"
  },
  "language_info": {
   "codemirror_mode": {
    "name": "ipython",
    "version": 3
   },
   "file_extension": ".py",
   "mimetype": "text/x-python",
   "name": "python",
   "nbconvert_exporter": "python",
   "pygments_lexer": "ipython3",
   "version": "3.9.7"
  }
 },
 "nbformat": 4,
 "nbformat_minor": 5
}
